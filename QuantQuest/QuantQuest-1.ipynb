{
 "cells": [
  {
   "cell_type": "markdown",
   "metadata": {
    "deletable": true,
    "editable": true
   },
   "source": [
    "# Introduction\n",
    "\n",
    "This presentation aims to prepare club members with some basic tools and knowledge to succeed in the upcoming Quant Quest challenge.\n",
    "\n",
    "## Machine Learning Pipeline\n",
    "1. Obtain data\n",
    "  * Either from scraping, downloading, or other means.\n",
    "2. Preprocess data\n",
    "  * Remove unwanted data.\n",
    "  * Filter out noise.\n",
    "  * Patitioning data into *training set*, *validation set*, *test set*\n",
    "  * Scale, shift, and normalize.\n",
    "3. Find a good representation\n",
    "  * The purpose of this step is to find a more representative representation of the data. \n",
    "  * In NLP, a good representation can be *word count*, or *tf-idf*.\n",
    "  * Dimensionality reduction.\n",
    "4. Training the classifier/regressor\n",
    "  * People often [k-fold cross-validation](https://www.cs.cmu.edu/~schneide/tut5/node42.html).\n",
    "  * *training* is done using gradient descent.\n",
    "  * Hyper-parameters tuning.\n",
    "5. Testing\n",
    "  * Accuracy, false-positive, false-negative, f-1 score, etc."
   ]
  },
  {
   "cell_type": "markdown",
   "metadata": {
    "deletable": true,
    "editable": true
   },
   "source": [
    "\n",
    "\n",
    "## Some Tools\n",
    "This section details some Python libraries that might be helpful\n",
    "1. Numerical analysis\n",
    "  * [numpy](http://www.numpy.org/) - Linear algebra, matrix and vector manipulation\n",
    "  * [pandas](http://pandas.pydata.org/) - Data anaysis, data manipulation\n",
    "2. Machine learning\n",
    "  * [scikit-learn](http://scikit-learn.org/stable/) - General machine learning. Supports basic/advance level algorithms, but only run on CPU.\n",
    "  * [theano](http://deeplearning.net/software/theano/) - Deep learning framework.\n",
    "  * [tensorflow](https://www.tensorflow.org/) - Another deep learning framework.\n",
    "3. Natural language processing\n",
    "  * [nltk](http://www.nltk.org/) - General NLP\n",
    "  * [gensim](https://radimrehurek.com/gensim/) - Topic modeling\n",
    "4. Utilities\n",
    "  * [beautiful soup](https://www.crummy.com/software/BeautifulSoup/) - Utility for working with text\n",
    "  * [urllib](https://docs.python.org/2/library/urllib2.html) - Dealing with url, lightweight scraping.\n",
    "  * [wikipedia](https://wikipedia.readthedocs.io/en/latest/quickstart.html) - Scraping from wikipedia\n",
    "  \n",
    "## Download\n",
    "You can get most of these libraries from the [Anaconda distribution](https://www.continuum.io/downloads) or from the links above."
   ]
  },
  {
   "cell_type": "markdown",
   "metadata": {
    "deletable": true,
    "editable": true
   },
   "source": [
    "## Obtain data\n",
    "This section will introduce basic tools to download text corpus from wikipedia articles. We will download the content of all 500 articles of 500 companies in the S&P 500."
   ]
  },
  {
   "cell_type": "code",
   "execution_count": null,
   "metadata": {
    "collapsed": true,
    "deletable": true,
    "editable": true
   },
   "outputs": [],
   "source": [
    "import urllib2\n",
    "import string\n",
    "import time\n",
    "import os\n",
    "from bs4 import BeautifulSoup, NavigableString\n",
    "import wikipedia as wk"
   ]
  },
  {
   "cell_type": "code",
   "execution_count": null,
   "metadata": {
    "collapsed": true,
    "deletable": true,
    "editable": true
   },
   "outputs": [],
   "source": [
    "def initOpener():\n",
    "    opener = urllib2.build_opener()\n",
    "    opener.addheaders = [('User-agent', 'Mozilla/5.0')]\n",
    "    return opener"
   ]
  },
  {
   "cell_type": "markdown",
   "metadata": {
    "deletable": true,
    "editable": true
   },
   "source": [
    "The function below output a dictionary whose keys are *stock tickers* and values are article *URLs*. These *URLs* are then used for scraping."
   ]
  },
  {
   "cell_type": "code",
   "execution_count": null,
   "metadata": {
    "collapsed": true,
    "deletable": true,
    "editable": true
   },
   "outputs": [],
   "source": [
    "def getSP500Dictionary():\n",
    "    stockTickerUrl = 'https://en.wikipedia.org/wiki/List_of_S%26P_500_companies'\n",
    "\n",
    "    usableStockTickerURL = initOpener().open(stockTickerUrl).read()\n",
    "\n",
    "    stockTickerSoup = BeautifulSoup(usableStockTickerURL, 'html.parser')\n",
    "\n",
    "    stockTickerTable = stockTickerSoup.find('table')\n",
    "\n",
    "    stockTickerRows = stockTickerTable.find_all('tr')\n",
    "\n",
    "    SP500companies = {}\n",
    "\n",
    "    stockBaseURL = 'https://en.wikipedia.org'\n",
    "\n",
    "    for stockTickerRow in stockTickerRows:\n",
    "        stockTickerColumns = stockTickerRow.find_all('td')\n",
    "        counter = 1\n",
    "        for element in stockTickerColumns:\n",
    "            # Stock Ticker\n",
    "            if (counter % 8) == 1:\n",
    "                stockTicker = element.get_text().strip().encode('utf-8', 'ignore')\n",
    "                counter = counter + 1\n",
    "            # Corresponding link to wiki page\n",
    "            elif (counter % 8 == 2):\n",
    "                SP500companies[stockTicker] = element.find('a', {'href': True}).get('href')\n",
    "                counter = counter + 1\n",
    "\n",
    "    return SP500companies"
   ]
  },
  {
   "cell_type": "markdown",
   "metadata": {
    "deletable": true,
    "editable": true
   },
   "source": [
    "The cell bellow uses *wikipedia* package to load the summary paragraph of the wikipedia article of each company."
   ]
  },
  {
   "cell_type": "code",
   "execution_count": null,
   "metadata": {
    "collapsed": false,
    "deletable": true,
    "editable": true,
    "scrolled": true
   },
   "outputs": [],
   "source": [
    "import codecs\n",
    "import wikipedia as wk\n",
    "import sys\n",
    "import json\n",
    "\n",
    "SP500dict = getSP500Dictionary()\n",
    "err = []\n",
    "data = []\n",
    "comp_name = []\n",
    "for k, v in SP500dict.iteritems():\n",
    "    # k: ticker, v: company name\n",
    "    v_str = str(v)\n",
    "    pageId = v_str.split('/')[-1]\n",
    "    pageId = pageId.replace('_',' ')\n",
    "    try:\n",
    "        data.append(wk.summary(pageId).encode('utf-8'))\n",
    "        comp_name.append(pageId.encode('utf-8'))\n",
    "    except:\n",
    "        err.append((k,v))\n",
    "# Dump the data into json file for later use\n",
    "with open('data.json', 'w') as outfile:\n",
    "    json.dump((data, comp_name), outfile)"
   ]
  },
  {
   "cell_type": "code",
   "execution_count": 1,
   "metadata": {
    "collapsed": false,
    "deletable": true,
    "editable": true
   },
   "outputs": [
    {
     "name": "stdout",
     "output_type": "stream",
     "text": [
      "BorgWarner Inc. is an American worldwide automotive industry components and parts supplier. It is primarily known for its powertrain products, which include manual and automatic transmissions and transmission components, such as electro-hydraulic control components, transmission control units, friction materials, and one-way clutches, turbochargers, engine valve timing system components, along with four-wheel drive system components.\n",
      "The company has 60 manufacturing facilities across 18 countries, including the U.S., Canada, Europe, and Asia. It provides drivetrain components to all three U.S. automakers, as well as a variety of European and Asian original equipment manufacturer (OEM) customers. BorgWarner has diversified into several automotive-related markets (1999), including ignition interlock technology (ACS Corporation est.1976) for preventing impaired operation of vehicles.\n",
      "Historically, BorgWarner was also known for its ownership of the Norge appliance company (washers and dryers).\n",
      "-----\n",
      "United Continental Holdings, Inc. (formerly UAL Corporation) is a publicly traded airline holding company headquartered in the Willis Tower in Chicago. UCH owns and operates United Airlines, Inc. The company is the successor of UAL Corporation, which agreed to change its name to United Continental Holdings in May 2010, when a merger agreement was reached between United and Continental Airlines. Its stock trades under the UAL symbol. To effect the merger, Continental shareholders received 1.05 shares of UAL stock for each Continental share, effectively meaning Continental was acquired by UAL Corporation; at the time of closing, it was estimated that United shareholders owned 55% of the merged entity and Continental shareholders owned 45%. The company or its subsidiary airlines also have several other subsidiaries. Once completely combined, United became the world's largest airline, as measured by revenue passenger miles. United is a founding member of the Star Alliance.\n",
      "UCH has major operations at Chicago–O'Hare, Denver, Guam, Houston–Intercontinental, Los Angeles, Newark (New Jersey), San Francisco, Tokyo–Narita and Washington–Dulles. UCH's United Air Lines, Inc. controls several key air rights, including being one of only two American carriers authorized to serve Asia from Tokyo-Narita (the other being Delta Air Lines). Additionally, UCH's United is the largest U.S. carrier to the People’s Republic of China and maintains a large operation throughout Asia.\n",
      "UCH uses Continental's operating certificate and United's repair station certificate, having been approved by the FAA on November 30, 2011.\n"
     ]
    }
   ],
   "source": [
    "import json\n",
    "\n",
    "with open('data.json') as json_data:\n",
    "    data_ = json.load(json_data)\n",
    "data = data_[0]\n",
    "comp_name = data_[1]\n",
    "# print 2 companies\n",
    "print data[10]\n",
    "print '-----'\n",
    "print data[11]"
   ]
  },
  {
   "cell_type": "markdown",
   "metadata": {
    "deletable": true,
    "editable": true
   },
   "source": [
    "## Preprocessing and Feature Representation\n",
    "Vectorize documents to matrix of occurence. While counting, filter out stopwords."
   ]
  },
  {
   "cell_type": "code",
   "execution_count": 2,
   "metadata": {
    "collapsed": false,
    "deletable": true,
    "editable": true
   },
   "outputs": [
    {
     "name": "stdout",
     "output_type": "stream",
     "text": [
      "(497, 7901)\n"
     ]
    }
   ],
   "source": [
    "# Import the method\n",
    "from sklearn.feature_extraction.text import CountVectorizer\n",
    "# Initialize the vectorizer with the option of stopword, which will eliminate \n",
    "# common words like 'the', 'a', etc.\n",
    "count_vect = CountVectorizer(stop_words='english')\n",
    "# fit_transform method applies the vectorizer on the data set\n",
    "X_train_counts = count_vect.fit_transform(data)\n",
    "# The resulting matrix is 496 by 7942. Each row is a document (a wikipedia article)\n",
    "# each column is the occurence of each word.\n",
    "print X_train_counts.shape"
   ]
  },
  {
   "cell_type": "markdown",
   "metadata": {
    "deletable": true,
    "editable": true
   },
   "source": [
    "$tf(t,d)$ is the frequency that term $t$ appears in document $d$.\n",
    "\n",
    "$df(d,t)$ is the number of documents that contain term $t$.\n",
    "\n",
    "$idf(t)=\\log \\frac{1+n_d}{1+df(d,t)} + 1$, \n",
    "  * $n_d$ is number of documents\n",
    "\n",
    "$tfidf(t,d)=tf(t,d)\\times idf(t)$\n",
    "\n",
    "In sklearn implementation, the final tf-idf vector is normalized by the L2 norm.\n",
    "\n",
    "Tfidf gives a nice numerical representation of the document. From this representation, we can perform numerical analysis technique on the data."
   ]
  },
  {
   "cell_type": "code",
   "execution_count": 3,
   "metadata": {
    "collapsed": false,
    "deletable": true,
    "editable": true
   },
   "outputs": [
    {
     "name": "stdout",
     "output_type": "stream",
     "text": [
      "(497, 7901)\n",
      "\n"
     ]
    }
   ],
   "source": [
    "from sklearn.feature_extraction.text import TfidfTransformer\n",
    "tf_transformer = TfidfTransformer()\n",
    "X_train_tf = tf_transformer.fit_transform(X_train_counts)\n",
    "print X_train_tf.shape\n",
    "print "
   ]
  },
  {
   "cell_type": "markdown",
   "metadata": {
    "deletable": true,
    "editable": true
   },
   "source": [
    "## Clustering\n",
    "K-means cluster your dataset into K centroids. \n",
    "\n",
    "For a set of observation $(x_0, x_1, \\dots, x_n)\\in \\mathbb{R}^d$ (in our case, $n=498$ and $d=7940$), k-means clusters these $n$ observations into $k$ groups $S={S_1, S_2, \\dots, S_k}$ such that: \n",
    "\n",
    "$$argmin_S \\sum_{i=1}^{k} \\sum_{x\\in S_i} ||x-\\mu_i||^2$$\n",
    "\n",
    "Intuitively, we want to minimize the total distance of each point in a cluster to the center $\\mu$ of that cluster.\n",
    "\n",
    "We start with placing centroids on the data set (there are many schemes to initialize centroids, but we go with random). Then for each data point, we determine which group it belongs to by looking at the Euclidian distance. \n",
    "\n",
    "Next, we iteratively update the center to minimize the sum of distance of all points in that group to the group center. At each iteration, the new centroid is the arithmetic mean of all points in that cluster."
   ]
  },
  {
   "cell_type": "code",
   "execution_count": 4,
   "metadata": {
    "collapsed": false,
    "deletable": true,
    "editable": true
   },
   "outputs": [
    {
     "data": {
      "text/plain": [
       "KMeans(copy_x=True, init='k-means++', max_iter=300, n_clusters=90, n_init=10,\n",
       "    n_jobs=-1, precompute_distances='auto', random_state=None, tol=0.0001,\n",
       "    verbose=0)"
      ]
     },
     "execution_count": 4,
     "metadata": {},
     "output_type": "execute_result"
    }
   ],
   "source": [
    "from sklearn.cluster import KMeans\n",
    "# Note that n_clusters is number of cluster. This is important for accuracy. Play around with it\n",
    "classifier = KMeans(n_clusters = 90, n_jobs=-1)\n",
    "classifier.fit(X_train_tf)"
   ]
  },
  {
   "cell_type": "code",
   "execution_count": 5,
   "metadata": {
    "collapsed": false,
    "deletable": true,
    "editable": true
   },
   "outputs": [
    {
     "name": "stdout",
     "output_type": "stream",
     "text": [
      "[57 14 35 15  7 86 31 56  4 43  9 42 28 87 11 57  0 76 20 35 27 73 43 29 44\n",
      " 76 50 37 88 65 37 21 12 33 11 35  7 60 23 35 44 12 46 34  6 16 71 21  4 81\n",
      " 88 58 27 88 18 66 63 55  3 15 16 14 15  6 14 80 11 57 64 66 23 58  6 14 88\n",
      " 85  2 74 36 48 19 18 57 31 34 69 45 16 35 11 53 70 37 48 50 37 83 23 59 80\n",
      " 34 72 15 52 42 29 33 19 55 71 86 20 20 23 81 37 81 16 16 60 78 45 17 52 74\n",
      " 52 10 15  3 16 81 15  2 50 78  2 23  3  7 19  6 16  5 65 86 48 52 85 30 16\n",
      "  0 78 31 54 53 29 60  2 48 29  0 23 24 23 29 48 14 14 42 71 85 75 16 41 82\n",
      " 13 32 11 24 29 45 52 39 23  2 27 19 12 72  9  5 56 52 44 18 43 16 42 14 19\n",
      " 53 55 71  7 42 68 32 45  4 36 56 25 11 19  4 71 56  5 71 13 11 52 16 36  0\n",
      " 79 54 37 48 28 30 23 27 88 87  5  2 22 34 37  9 15 85 16 12 83 72 36 89 81\n",
      " 29 16 15  5 10  6 35 49 16 46  1  3 11 83 12  4 20 87 25  8 11 11 52 31  7\n",
      "  2 84  9 37 23 23  2 16 11 14  9 56 65 13 18 59 60 62 89 44 54 11 60  4  4\n",
      " 15 34 20 15 27 19 23 37 18  6 14 21 26 63 69 64 62 16 38 21 39 18 20 39 76\n",
      "  8 40 34 13 54 40 54 67 54  2 26 80 14 16 32 19 50 61 15 85 22 40 42 52  2\n",
      " 52 69  7 45 41 56 37 29 48 11 82 76 33  2 52 19 11 81 77 38 52 58 35  1 25\n",
      " 43 54 15 65 67 24 73 26  4  3 29 35 24 73 55 50 51 66  3 46 77 18 32 73 29\n",
      " 81  6 71 15  4 16 79 70 48 47 47 54 55 52 52 30 54  2  2 38 37  9 35 61 27\n",
      " 53 21  6  4 68 30 15 81 38 38 30 59  2 27 11 21 43 44 52  2 79 28 11 53 71\n",
      " 23 19 27 14 26 14 54 13 62 49 49 74  4 15 56 13 58 71 89 36 52 16  9 18 82\n",
      " 53 68 42 38 69 29 14 71 11 68  1 37  6 88  6 15 30 81 41  0 30 30]\n"
     ]
    }
   ],
   "source": [
    "print (classifier.labels_)"
   ]
  },
  {
   "cell_type": "code",
   "execution_count": 6,
   "metadata": {
    "collapsed": false,
    "deletable": true,
    "editable": true
   },
   "outputs": [
    {
     "name": "stdout",
     "output_type": "stream",
     "text": [
      "[u'Prudential Financial', u'Lincoln National', u'Northern Trust Corp.', u'Affiliated Managers Group Inc', u'Ameriprise Financial', u'T. Rowe Price Group', u'Principal Financial Group', u'S%26P Global, Inc.']\n",
      "____\n",
      "[u'Campbell Soup', u'Mead Johnson', u'Johnson %26 Johnson', u'Franklin Resources', u'Boston Scientific', u'Arthur J. Gallagher %26 Co.', u'PPG Industries', u'Johnson Controls', u'Lilly (Eli) %26 Co.']\n"
     ]
    }
   ],
   "source": [
    "import numpy as np\n",
    "print [comp_name[x] for x in np.where(classifier.labels_==30)[0]]\n",
    "print \"____\"\n",
    "print [comp_name[x] for x in np.where(classifier.labels_==35)[0]]"
   ]
  },
  {
   "cell_type": "code",
   "execution_count": 7,
   "metadata": {
    "collapsed": false
   },
   "outputs": [
    {
     "name": "stdout",
     "output_type": "stream",
     "text": [
      "118\n",
      "[u'Comerica Inc.', u'BlackRock', u'Charles Schwab Corporation', u'Bank of America Corp', u'Goldman Sachs Group', u'SunTrust Banks', u'PNC Financial Services', u'Regions Financial Corp.', u'Wells Fargo', u'State Street Corp.', u'BB%26T Corporation', u'Huntington Bancshares', u'Intuit Inc.', u'JPMorgan Chase %26 Co.', u'Fifth Third Bancorp', u'Citigroup Inc.', u'Capital One Financial', u'Navient', u'U.S. Bancorp']\n"
     ]
    }
   ],
   "source": [
    "print comp_name.index('Goldman Sachs Group')\n",
    "print [comp_name[x] for x in np.where(classifier.labels_==classifier.labels_[118])[0]]"
   ]
  },
  {
   "cell_type": "code",
   "execution_count": 9,
   "metadata": {
    "collapsed": false,
    "scrolled": true
   },
   "outputs": [],
   "source": [
    "# print comp_name"
   ]
  }
 ],
 "metadata": {
  "anaconda-cloud": {},
  "kernelspec": {
   "display_name": "Python [conda root]",
   "language": "python",
   "name": "conda-root-py"
  },
  "language_info": {
   "codemirror_mode": {
    "name": "ipython",
    "version": 2
   },
   "file_extension": ".py",
   "mimetype": "text/x-python",
   "name": "python",
   "nbconvert_exporter": "python",
   "pygments_lexer": "ipython2",
   "version": "2.7.12"
  }
 },
 "nbformat": 4,
 "nbformat_minor": 2
}
